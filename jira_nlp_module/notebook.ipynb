{
 "cells": [
  {
   "cell_type": "code",
   "execution_count": 1,
   "metadata": {},
   "outputs": [],
   "source": [
    "import sys\n",
    "import os\n",
    "import pandas as pd\n",
    "import json"
   ]
  },
  {
   "cell_type": "markdown",
   "metadata": {},
   "source": [
    "#### One time running"
   ]
  },
  {
   "cell_type": "code",
   "execution_count": 3,
   "metadata": {},
   "outputs": [
    {
     "name": "stdout",
     "output_type": "stream",
     "text": [
      "c:\\Users\\westwell\\Documents\\.WorkDocuments\\github\\wwl_ds_projects\\jira_nlp_module\\data\\raw\n",
      "c:\\Users\\westwell\\Documents\\.WorkDocuments\\github\\wwl_ds_projects\\jira_nlp_module\\data\\processed\n"
     ]
    }
   ],
   "source": [
    "# Change the working directory to the project directory\n",
    "project_path = os.path.abspath(os.path.join(os.path.dirname(\"__file__\"), \"..\"))\n",
    "os.chdir(project_path)\n",
    "\n",
    "# Add the project directory to sys.path\n",
    "sys.path.insert(0, project_path)\n",
    "\n",
    "# Now you can import the print_path function from the tools.data_pipe module\n",
    "from tools.folder_generator import create_folder\n",
    "create_folder(\"jira_nlp_module\")\n",
    "\n",
    "module_path = os.path.abspath(os.path.join(\"jira_nlp_module\"))\n",
    "os.chdir(module_path)"
   ]
  },
  {
   "cell_type": "code",
   "execution_count": 8,
   "metadata": {},
   "outputs": [
    {
     "name": "stdout",
     "output_type": "stream",
     "text": [
      "['c:\\\\Users\\\\westwell\\\\Documents\\\\.WorkDocuments\\\\github\\\\wwl_ds_projects\\\\jira_nlp_module\\\\data\\\\raw\\\\Jira 2024-04-25T17_35_39+0800.csv']\n"
     ]
    }
   ],
   "source": [
    "folder_path = os.path.abspath(os.path.join(\"data\",\"raw\"))\n",
    "\n",
    "path_list = []\n",
    "for item in os.listdir(folder_path):\n",
    "    if item.lower().endswith(\".csv\"):\n",
    "        path_list.append(os.path.join(folder_path, item))\n",
    "\n",
    "print(path_list)"
   ]
  },
  {
   "cell_type": "markdown",
   "metadata": {},
   "source": [
    "## Data cleaning and processing"
   ]
  },
  {
   "cell_type": "code",
   "execution_count": null,
   "metadata": {},
   "outputs": [],
   "source": []
  }
 ],
 "metadata": {
  "kernelspec": {
   "display_name": "base",
   "language": "python",
   "name": "python3"
  },
  "language_info": {
   "codemirror_mode": {
    "name": "ipython",
    "version": 3
   },
   "file_extension": ".py",
   "mimetype": "text/x-python",
   "name": "python",
   "nbconvert_exporter": "python",
   "pygments_lexer": "ipython3",
   "version": "3.11.5"
  }
 },
 "nbformat": 4,
 "nbformat_minor": 2
}
