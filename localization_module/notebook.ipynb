{
 "cells": [
  {
   "cell_type": "code",
   "execution_count": 3,
   "metadata": {},
   "outputs": [
    {
     "data": {
      "text/plain": [
       "'c:\\\\Users\\\\westwell\\\\Documents\\\\.WorkDocuments\\\\github\\\\wwl_ds_projects\\\\localization_module\\\\data'"
      ]
     },
     "execution_count": 3,
     "metadata": {},
     "output_type": "execute_result"
    }
   ],
   "source": [
    "import pandas as pd\n",
    "import os\n",
    "import json\n",
    "# __set_dir__()\n",
    "os.path.abspath(os.path.join('data'))"
   ]
  },
  {
   "cell_type": "markdown",
   "metadata": {},
   "source": [
    "# Data Cleaning"
   ]
  },
  {
   "cell_type": "code",
   "execution_count": 4,
   "metadata": {},
   "outputs": [
    {
     "data": {
      "text/plain": [
       "['c:\\\\Users\\\\westwell\\\\Documents\\\\.WorkDocuments\\\\github\\\\wwl_ds_projects\\\\localization_module\\\\data\\\\raw\\\\localization2_container_pose_2024-05-19_234444.csv',\n",
       " 'c:\\\\Users\\\\westwell\\\\Documents\\\\.WorkDocuments\\\\github\\\\wwl_ds_projects\\\\localization_module\\\\data\\\\raw\\\\localization2_container_pose_2024-05-20_052736.csv',\n",
       " 'c:\\\\Users\\\\westwell\\\\Documents\\\\.WorkDocuments\\\\github\\\\wwl_ds_projects\\\\localization_module\\\\data\\\\raw\\\\localization2_container_pose_2024-05-20_114311.csv',\n",
       " 'c:\\\\Users\\\\westwell\\\\Documents\\\\.WorkDocuments\\\\github\\\\wwl_ds_projects\\\\localization_module\\\\data\\\\raw\\\\localization2_correct_pose_by_wall_2024-05-18_073904.csv',\n",
       " 'c:\\\\Users\\\\westwell\\\\Documents\\\\.WorkDocuments\\\\github\\\\wwl_ds_projects\\\\localization_module\\\\data\\\\raw\\\\localization2_correct_pose_by_wall_2024-05-19_005440.csv',\n",
       " 'c:\\\\Users\\\\westwell\\\\Documents\\\\.WorkDocuments\\\\github\\\\wwl_ds_projects\\\\localization_module\\\\data\\\\raw\\\\localization2_correct_pose_by_wall_2024-05-20_052736.csv',\n",
       " 'c:\\\\Users\\\\westwell\\\\Documents\\\\.WorkDocuments\\\\github\\\\wwl_ds_projects\\\\localization_module\\\\data\\\\raw\\\\localization2_gnss_pose_2024-05-20_045810.csv',\n",
       " 'c:\\\\Users\\\\westwell\\\\Documents\\\\.WorkDocuments\\\\github\\\\wwl_ds_projects\\\\localization_module\\\\data\\\\raw\\\\localization2_gnss_pose_2024-05-20_052736.csv',\n",
       " 'c:\\\\Users\\\\westwell\\\\Documents\\\\.WorkDocuments\\\\github\\\\wwl_ds_projects\\\\localization_module\\\\data\\\\raw\\\\localization2_gnss_pose_2024-05-20_100120.csv',\n",
       " 'c:\\\\Users\\\\westwell\\\\Documents\\\\.WorkDocuments\\\\github\\\\wwl_ds_projects\\\\localization_module\\\\data\\\\raw\\\\localization2_localization_odom_2024-05-20_072553.csv',\n",
       " 'c:\\\\Users\\\\westwell\\\\Documents\\\\.WorkDocuments\\\\github\\\\wwl_ds_projects\\\\localization_module\\\\data\\\\raw\\\\localization2_localization_odom_2024-05-20_092231.csv',\n",
       " 'c:\\\\Users\\\\westwell\\\\Documents\\\\.WorkDocuments\\\\github\\\\wwl_ds_projects\\\\localization_module\\\\data\\\\raw\\\\localization2_localization_odom_2024-05-20_111911.csv',\n",
       " 'c:\\\\Users\\\\westwell\\\\Documents\\\\.WorkDocuments\\\\github\\\\wwl_ds_projects\\\\localization_module\\\\data\\\\raw\\\\localization2_odom_velocity_2024-05-20_032401.csv',\n",
       " 'c:\\\\Users\\\\westwell\\\\Documents\\\\.WorkDocuments\\\\github\\\\wwl_ds_projects\\\\localization_module\\\\data\\\\raw\\\\localization2_odom_velocity_2024-05-20_052736.csv',\n",
       " 'c:\\\\Users\\\\westwell\\\\Documents\\\\.WorkDocuments\\\\github\\\\wwl_ds_projects\\\\localization_module\\\\data\\\\raw\\\\localization2_odom_velocity_2024-05-20_095150.csv',\n",
       " 'c:\\\\Users\\\\westwell\\\\Documents\\\\.WorkDocuments\\\\github\\\\wwl_ds_projects\\\\localization_module\\\\data\\\\raw\\\\localization2_optimized_pose_2024-05-18_073904.csv',\n",
       " 'c:\\\\Users\\\\westwell\\\\Documents\\\\.WorkDocuments\\\\github\\\\wwl_ds_projects\\\\localization_module\\\\data\\\\raw\\\\localization2_optimized_pose_2024-05-20_052736.csv',\n",
       " 'c:\\\\Users\\\\westwell\\\\Documents\\\\.WorkDocuments\\\\github\\\\wwl_ds_projects\\\\localization_module\\\\data\\\\raw\\\\localization2_qc_match_pose_2024-05-20_010504.csv',\n",
       " 'c:\\\\Users\\\\westwell\\\\Documents\\\\.WorkDocuments\\\\github\\\\wwl_ds_projects\\\\localization_module\\\\data\\\\raw\\\\localization2_qc_match_pose_2024-05-20_052736.csv']"
      ]
     },
     "execution_count": 4,
     "metadata": {},
     "output_type": "execute_result"
    }
   ],
   "source": [
    "path_list = []\n",
    "folder_path = os.path.abspath(os.path.join('data','raw'))\n",
    "for item in os.listdir(folder_path):\n",
    "    if item.lower().endswith('.csv'):\n",
    "        path_list.append(os.path.join(folder_path, item))\n",
    "    \n",
    "path_list"
   ]
  },
  {
   "cell_type": "code",
   "execution_count": 5,
   "metadata": {},
   "outputs": [
    {
     "name": "stdout",
     "output_type": "stream",
     "text": [
      "c:\\Users\\westwell\\Documents\\.WorkDocuments\\github\\wwl_ds_projects\\localization_module\\data\\raw\\localization2_optimized_pose_2024-05-18_073904.csv\n",
      "c:\\Users\\westwell\\Documents\\.WorkDocuments\\github\\wwl_ds_projects\\localization_module\\data\\raw\\localization2_optimized_pose_2024-05-20_052736.csv\n"
     ]
    },
    {
     "data": {
      "text/plain": [
       "Index(['stamp', 'optimized_pose_x', 'optimized_pose_y', 'optimized_pose_yaw'], dtype='object')"
      ]
     },
     "metadata": {},
     "output_type": "display_data"
    },
    {
     "data": {
      "text/plain": [
       "1716026889.599762"
      ]
     },
     "metadata": {},
     "output_type": "display_data"
    },
    {
     "data": {
      "text/plain": [
       "stamp\n",
       "0.2       7926\n",
       "0.1        799\n",
       "0.4        107\n",
       "0.6         26\n",
       "0.3         26\n",
       "          ... \n",
       "1225.8       1\n",
       "1.4          1\n",
       "12.9         1\n",
       "1764.2       1\n",
       "15.5         1\n",
       "Name: count, Length: 78, dtype: int64"
      ]
     },
     "metadata": {},
     "output_type": "display_data"
    },
    {
     "data": {
      "text/plain": [
       "1716026889.5"
      ]
     },
     "metadata": {},
     "output_type": "display_data"
    }
   ],
   "source": [
    "df_list = []\n",
    "name_list = [\n",
    "    'localization2_gnss_pose',\n",
    "    'localization2_localization_odom',\n",
    "    'localization2_correct_pose_by_wall',\n",
    "    'localization2_container_pose',\n",
    "    'localization2_qc_match_pose',\n",
    "    'localization2_optimized_pose',\n",
    "    'localization2_magnetic_nail',\n",
    "    'localization2_correct_pose_by_lane',\n",
    "]\n",
    "\n",
    "name = name_list[5]\n",
    "\n",
    "def lmd_stamp(timestamp):\n",
    "    '''\n",
    "    Timestamp alignment, all ending in even numbers.\n",
    "    '''\n",
    "    if round(timestamp, 1) % 2 != 0: return round(timestamp, 1)-0.1\n",
    "    else: return round(timestamp,1)\n",
    "\n",
    "for p in path_list:\n",
    "    if name in p:\n",
    "        print(p)\n",
    "        df_list.append(pd.read_csv(p))\n",
    "\n",
    "df = pd.concat(df_list, axis=0)\n",
    "display(df.columns)\n",
    "display(df['stamp'].iloc[0])\n",
    "display((round(df['stamp']-df['stamp'].shift(1), 1)).value_counts())\n",
    "\n",
    "df['stamp'] = df['stamp'].apply(lambda x: lmd_stamp(x))\n",
    "\n",
    "display(df['stamp'].iloc[0])\n",
    "\n",
    "# df.to_csv(f\"C:\\\\Users\\westwell\\Documents\\.WorkDocuments\\github\\wwl_ds_projects\\data\\processed\\{name}.csv\")"
   ]
  },
  {
   "cell_type": "code",
   "execution_count": 6,
   "metadata": {},
   "outputs": [
    {
     "name": "stdout",
     "output_type": "stream",
     "text": [
      "0 localization2_container_pose.csv (137066, 17)\n",
      "1 localization2_correct_pose_by_wall.csv (325756, 7)\n",
      "2 localization2_gnss_pose.csv (131155, 16)\n",
      "3 localization2_localization_odom.csv (88538, 34)\n",
      "4 localization2_optimized_pose.csv (9037, 4)\n",
      "5 localization2_qc_match_pose.csv (63586, 17)\n"
     ]
    }
   ],
   "source": [
    "def get_info(folder_path):\n",
    "    path_list, df_list = [], []\n",
    "    num = 0\n",
    "\n",
    "    for item in os.listdir(folder_path):\n",
    "        if item.lower().endswith('.csv'):\n",
    "            path_list.append(os.path.join(folder_path, item))\n",
    "\n",
    "    for num in range(0,len(path_list)):\n",
    "        p = path_list[num]\n",
    "        df = pd.read_csv(p, index_col=0)\n",
    "        print(num,\n",
    "                os.path.basename(p), \n",
    "                # df.columns, \n",
    "                df.shape)\n",
    "\n",
    "        if num == 0: \n",
    "            col = ['stamp', 'container_pose_x', 'container_pose_y','container_updated_pose_x', 'container_updated_pose_y',]\n",
    "        elif num == 1: col = ['stamp', 'correct_pose_by_wall_x', 'correct_pose_by_wall_y',]\n",
    "        elif num == 2: col = ['stamp', 'gnss_x', 'gnss_y', 'gnss_fsm_status']\n",
    "        elif num == 3: col = ['stamp', 'base_footprint_x', 'base_footprint_y',]\n",
    "        elif num == 4: col = ['stamp', 'optimized_pose_x', 'optimized_pose_y',]\n",
    "        elif num == 5: col = ['stamp', 'qc_match_pose_x', 'qc_match_pose_y','qc_match_updated_pose_x', 'qc_match_updated_pose_y']\n",
    "        df = df[col].copy()\n",
    "\n",
    "        df_list.append(df)\n",
    "    return df_list\n",
    "    \n",
    "    \n",
    "folder_path = os.path.abspath(os.path.join('data','processed'))\n",
    "df_list = get_info(folder_path=folder_path)"
   ]
  },
  {
   "cell_type": "code",
   "execution_count": 7,
   "metadata": {},
   "outputs": [
    {
     "name": "stdout",
     "output_type": "stream",
     "text": [
      "(131882, 18)\n"
     ]
    }
   ],
   "source": [
    "gps1 = pd.merge(df_list[2], df_list[0], how='left',on='stamp')\n",
    "gps2 = pd.merge(gps1, df_list[1],how='left',on='stamp' )\n",
    "gps3 = pd.merge(gps2, df_list[3],how='left',on='stamp' )\n",
    "gps4 = pd.merge(gps3, df_list[4],how='left',on='stamp' )\n",
    "gps5 = pd.merge(gps4, df_list[5],how='left',on='stamp' )\n",
    "\n",
    "print(gps5.shape)"
   ]
  },
  {
   "cell_type": "code",
   "execution_count": 10,
   "metadata": {},
   "outputs": [
    {
     "data": {
      "text/plain": [
       "Index(['stamp', 'gnss_x', 'gnss_y', 'gnss_fsm_status', 'container_pose_x',\n",
       "       'container_pose_y', 'container_updated_pose_x',\n",
       "       'container_updated_pose_y', 'correct_pose_by_wall_x',\n",
       "       'correct_pose_by_wall_y', 'base_footprint_x', 'base_footprint_y',\n",
       "       'optimized_pose_x', 'optimized_pose_y', 'qc_match_pose_x',\n",
       "       'qc_match_pose_y', 'qc_match_updated_pose_x',\n",
       "       'qc_match_updated_pose_y'],\n",
       "      dtype='object')"
      ]
     },
     "metadata": {},
     "output_type": "display_data"
    },
    {
     "name": "stdout",
     "output_type": "stream",
     "text": [
      "c:\\Users\\westwell\\Documents\\.WorkDocuments\\github\\wwl_ds_projects\\localization_module\\data\\export\n"
     ]
    },
    {
     "ename": "PermissionError",
     "evalue": "[Errno 13] Permission denied: 'C:\\\\Users\\\\westwell\\\\Documents\\\\.WorkDocuments\\\\github\\\\wwl_ds_projects\\\\localization_module\\\\data\\\\export'",
     "output_type": "error",
     "traceback": [
      "\u001b[1;31m---------------------------------------------------------------------------\u001b[0m",
      "\u001b[1;31mPermissionError\u001b[0m                           Traceback (most recent call last)",
      "Cell \u001b[1;32mIn[10], line 6\u001b[0m\n\u001b[0;32m      4\u001b[0m \u001b[38;5;28mprint\u001b[39m(export_p1)\n\u001b[0;32m      5\u001b[0m export_p1 \u001b[38;5;241m=\u001b[39m \u001b[38;5;124m'\u001b[39m\u001b[38;5;124mC:\u001b[39m\u001b[38;5;130;01m\\\\\u001b[39;00m\u001b[38;5;124mUsers\u001b[39m\u001b[38;5;124m\\\u001b[39m\u001b[38;5;124mwestwell\u001b[39m\u001b[38;5;124m\\\u001b[39m\u001b[38;5;124mDocuments\u001b[39m\u001b[38;5;130;01m\\\\\u001b[39;00m\u001b[38;5;124m.WorkDocuments\u001b[39m\u001b[38;5;124m\\\u001b[39m\u001b[38;5;124mgithub\u001b[39m\u001b[38;5;124m\\\u001b[39m\u001b[38;5;124mwwl_ds_projects\u001b[39m\u001b[38;5;124m\\\u001b[39m\u001b[38;5;124mlocalization_module\u001b[39m\u001b[38;5;124m\\\u001b[39m\u001b[38;5;124mdata\u001b[39m\u001b[38;5;124m\\\u001b[39m\u001b[38;5;124mexport\u001b[39m\u001b[38;5;124m'\u001b[39m\n\u001b[1;32m----> 6\u001b[0m gps5\u001b[38;5;241m.\u001b[39mto_csv(export_p1)\n",
      "File \u001b[1;32mc:\\Users\\westwell\\anaconda3\\Lib\\site-packages\\pandas\\core\\generic.py:3772\u001b[0m, in \u001b[0;36mNDFrame.to_csv\u001b[1;34m(self, path_or_buf, sep, na_rep, float_format, columns, header, index, index_label, mode, encoding, compression, quoting, quotechar, lineterminator, chunksize, date_format, doublequote, escapechar, decimal, errors, storage_options)\u001b[0m\n\u001b[0;32m   3761\u001b[0m df \u001b[38;5;241m=\u001b[39m \u001b[38;5;28mself\u001b[39m \u001b[38;5;28;01mif\u001b[39;00m \u001b[38;5;28misinstance\u001b[39m(\u001b[38;5;28mself\u001b[39m, ABCDataFrame) \u001b[38;5;28;01melse\u001b[39;00m \u001b[38;5;28mself\u001b[39m\u001b[38;5;241m.\u001b[39mto_frame()\n\u001b[0;32m   3763\u001b[0m formatter \u001b[38;5;241m=\u001b[39m DataFrameFormatter(\n\u001b[0;32m   3764\u001b[0m     frame\u001b[38;5;241m=\u001b[39mdf,\n\u001b[0;32m   3765\u001b[0m     header\u001b[38;5;241m=\u001b[39mheader,\n\u001b[1;32m   (...)\u001b[0m\n\u001b[0;32m   3769\u001b[0m     decimal\u001b[38;5;241m=\u001b[39mdecimal,\n\u001b[0;32m   3770\u001b[0m )\n\u001b[1;32m-> 3772\u001b[0m \u001b[38;5;28;01mreturn\u001b[39;00m DataFrameRenderer(formatter)\u001b[38;5;241m.\u001b[39mto_csv(\n\u001b[0;32m   3773\u001b[0m     path_or_buf,\n\u001b[0;32m   3774\u001b[0m     lineterminator\u001b[38;5;241m=\u001b[39mlineterminator,\n\u001b[0;32m   3775\u001b[0m     sep\u001b[38;5;241m=\u001b[39msep,\n\u001b[0;32m   3776\u001b[0m     encoding\u001b[38;5;241m=\u001b[39mencoding,\n\u001b[0;32m   3777\u001b[0m     errors\u001b[38;5;241m=\u001b[39merrors,\n\u001b[0;32m   3778\u001b[0m     compression\u001b[38;5;241m=\u001b[39mcompression,\n\u001b[0;32m   3779\u001b[0m     quoting\u001b[38;5;241m=\u001b[39mquoting,\n\u001b[0;32m   3780\u001b[0m     columns\u001b[38;5;241m=\u001b[39mcolumns,\n\u001b[0;32m   3781\u001b[0m     index_label\u001b[38;5;241m=\u001b[39mindex_label,\n\u001b[0;32m   3782\u001b[0m     mode\u001b[38;5;241m=\u001b[39mmode,\n\u001b[0;32m   3783\u001b[0m     chunksize\u001b[38;5;241m=\u001b[39mchunksize,\n\u001b[0;32m   3784\u001b[0m     quotechar\u001b[38;5;241m=\u001b[39mquotechar,\n\u001b[0;32m   3785\u001b[0m     date_format\u001b[38;5;241m=\u001b[39mdate_format,\n\u001b[0;32m   3786\u001b[0m     doublequote\u001b[38;5;241m=\u001b[39mdoublequote,\n\u001b[0;32m   3787\u001b[0m     escapechar\u001b[38;5;241m=\u001b[39mescapechar,\n\u001b[0;32m   3788\u001b[0m     storage_options\u001b[38;5;241m=\u001b[39mstorage_options,\n\u001b[0;32m   3789\u001b[0m )\n",
      "File \u001b[1;32mc:\\Users\\westwell\\anaconda3\\Lib\\site-packages\\pandas\\io\\formats\\format.py:1186\u001b[0m, in \u001b[0;36mDataFrameRenderer.to_csv\u001b[1;34m(self, path_or_buf, encoding, sep, columns, index_label, mode, compression, quoting, quotechar, lineterminator, chunksize, date_format, doublequote, escapechar, errors, storage_options)\u001b[0m\n\u001b[0;32m   1165\u001b[0m     created_buffer \u001b[38;5;241m=\u001b[39m \u001b[38;5;28;01mFalse\u001b[39;00m\n\u001b[0;32m   1167\u001b[0m csv_formatter \u001b[38;5;241m=\u001b[39m CSVFormatter(\n\u001b[0;32m   1168\u001b[0m     path_or_buf\u001b[38;5;241m=\u001b[39mpath_or_buf,\n\u001b[0;32m   1169\u001b[0m     lineterminator\u001b[38;5;241m=\u001b[39mlineterminator,\n\u001b[1;32m   (...)\u001b[0m\n\u001b[0;32m   1184\u001b[0m     formatter\u001b[38;5;241m=\u001b[39m\u001b[38;5;28mself\u001b[39m\u001b[38;5;241m.\u001b[39mfmt,\n\u001b[0;32m   1185\u001b[0m )\n\u001b[1;32m-> 1186\u001b[0m csv_formatter\u001b[38;5;241m.\u001b[39msave()\n\u001b[0;32m   1188\u001b[0m \u001b[38;5;28;01mif\u001b[39;00m created_buffer:\n\u001b[0;32m   1189\u001b[0m     \u001b[38;5;28;01massert\u001b[39;00m \u001b[38;5;28misinstance\u001b[39m(path_or_buf, StringIO)\n",
      "File \u001b[1;32mc:\\Users\\westwell\\anaconda3\\Lib\\site-packages\\pandas\\io\\formats\\csvs.py:240\u001b[0m, in \u001b[0;36mCSVFormatter.save\u001b[1;34m(self)\u001b[0m\n\u001b[0;32m    236\u001b[0m \u001b[38;5;250m\u001b[39m\u001b[38;5;124;03m\"\"\"\u001b[39;00m\n\u001b[0;32m    237\u001b[0m \u001b[38;5;124;03mCreate the writer & save.\u001b[39;00m\n\u001b[0;32m    238\u001b[0m \u001b[38;5;124;03m\"\"\"\u001b[39;00m\n\u001b[0;32m    239\u001b[0m \u001b[38;5;66;03m# apply compression and byte/text conversion\u001b[39;00m\n\u001b[1;32m--> 240\u001b[0m \u001b[38;5;28;01mwith\u001b[39;00m get_handle(\n\u001b[0;32m    241\u001b[0m     \u001b[38;5;28mself\u001b[39m\u001b[38;5;241m.\u001b[39mfilepath_or_buffer,\n\u001b[0;32m    242\u001b[0m     \u001b[38;5;28mself\u001b[39m\u001b[38;5;241m.\u001b[39mmode,\n\u001b[0;32m    243\u001b[0m     encoding\u001b[38;5;241m=\u001b[39m\u001b[38;5;28mself\u001b[39m\u001b[38;5;241m.\u001b[39mencoding,\n\u001b[0;32m    244\u001b[0m     errors\u001b[38;5;241m=\u001b[39m\u001b[38;5;28mself\u001b[39m\u001b[38;5;241m.\u001b[39merrors,\n\u001b[0;32m    245\u001b[0m     compression\u001b[38;5;241m=\u001b[39m\u001b[38;5;28mself\u001b[39m\u001b[38;5;241m.\u001b[39mcompression,\n\u001b[0;32m    246\u001b[0m     storage_options\u001b[38;5;241m=\u001b[39m\u001b[38;5;28mself\u001b[39m\u001b[38;5;241m.\u001b[39mstorage_options,\n\u001b[0;32m    247\u001b[0m ) \u001b[38;5;28;01mas\u001b[39;00m handles:\n\u001b[0;32m    248\u001b[0m     \u001b[38;5;66;03m# Note: self.encoding is irrelevant here\u001b[39;00m\n\u001b[0;32m    249\u001b[0m     \u001b[38;5;28mself\u001b[39m\u001b[38;5;241m.\u001b[39mwriter \u001b[38;5;241m=\u001b[39m csvlib\u001b[38;5;241m.\u001b[39mwriter(\n\u001b[0;32m    250\u001b[0m         handles\u001b[38;5;241m.\u001b[39mhandle,\n\u001b[0;32m    251\u001b[0m         lineterminator\u001b[38;5;241m=\u001b[39m\u001b[38;5;28mself\u001b[39m\u001b[38;5;241m.\u001b[39mlineterminator,\n\u001b[1;32m   (...)\u001b[0m\n\u001b[0;32m    256\u001b[0m         quotechar\u001b[38;5;241m=\u001b[39m\u001b[38;5;28mself\u001b[39m\u001b[38;5;241m.\u001b[39mquotechar,\n\u001b[0;32m    257\u001b[0m     )\n\u001b[0;32m    259\u001b[0m     \u001b[38;5;28mself\u001b[39m\u001b[38;5;241m.\u001b[39m_save()\n",
      "File \u001b[1;32mc:\\Users\\westwell\\anaconda3\\Lib\\site-packages\\pandas\\io\\common.py:859\u001b[0m, in \u001b[0;36mget_handle\u001b[1;34m(path_or_buf, mode, encoding, compression, memory_map, is_text, errors, storage_options)\u001b[0m\n\u001b[0;32m    854\u001b[0m \u001b[38;5;28;01melif\u001b[39;00m \u001b[38;5;28misinstance\u001b[39m(handle, \u001b[38;5;28mstr\u001b[39m):\n\u001b[0;32m    855\u001b[0m     \u001b[38;5;66;03m# Check whether the filename is to be opened in binary mode.\u001b[39;00m\n\u001b[0;32m    856\u001b[0m     \u001b[38;5;66;03m# Binary mode does not support 'encoding' and 'newline'.\u001b[39;00m\n\u001b[0;32m    857\u001b[0m     \u001b[38;5;28;01mif\u001b[39;00m ioargs\u001b[38;5;241m.\u001b[39mencoding \u001b[38;5;129;01mand\u001b[39;00m \u001b[38;5;124m\"\u001b[39m\u001b[38;5;124mb\u001b[39m\u001b[38;5;124m\"\u001b[39m \u001b[38;5;129;01mnot\u001b[39;00m \u001b[38;5;129;01min\u001b[39;00m ioargs\u001b[38;5;241m.\u001b[39mmode:\n\u001b[0;32m    858\u001b[0m         \u001b[38;5;66;03m# Encoding\u001b[39;00m\n\u001b[1;32m--> 859\u001b[0m         handle \u001b[38;5;241m=\u001b[39m \u001b[38;5;28mopen\u001b[39m(\n\u001b[0;32m    860\u001b[0m             handle,\n\u001b[0;32m    861\u001b[0m             ioargs\u001b[38;5;241m.\u001b[39mmode,\n\u001b[0;32m    862\u001b[0m             encoding\u001b[38;5;241m=\u001b[39mioargs\u001b[38;5;241m.\u001b[39mencoding,\n\u001b[0;32m    863\u001b[0m             errors\u001b[38;5;241m=\u001b[39merrors,\n\u001b[0;32m    864\u001b[0m             newline\u001b[38;5;241m=\u001b[39m\u001b[38;5;124m\"\u001b[39m\u001b[38;5;124m\"\u001b[39m,\n\u001b[0;32m    865\u001b[0m         )\n\u001b[0;32m    866\u001b[0m     \u001b[38;5;28;01melse\u001b[39;00m:\n\u001b[0;32m    867\u001b[0m         \u001b[38;5;66;03m# Binary mode\u001b[39;00m\n\u001b[0;32m    868\u001b[0m         handle \u001b[38;5;241m=\u001b[39m \u001b[38;5;28mopen\u001b[39m(handle, ioargs\u001b[38;5;241m.\u001b[39mmode)\n",
      "\u001b[1;31mPermissionError\u001b[0m: [Errno 13] Permission denied: 'C:\\\\Users\\\\westwell\\\\Documents\\\\.WorkDocuments\\\\github\\\\wwl_ds_projects\\\\localization_module\\\\data\\\\export'"
     ]
    }
   ],
   "source": [
    "gps5.head()\n",
    "display(gps5.columns)\n",
    "export_p1 = os.path.abspath(os.path.join('data', 'export'))\n",
    "print(export_p1)\n",
    "export_p1 = 'C:\\\\Users\\westwell\\Documents\\\\.WorkDocuments\\github\\wwl_ds_projects\\localization_module\\data\\export'\n",
    "gps5.to_csv(export_p1)"
   ]
  },
  {
   "cell_type": "code",
   "execution_count": 9,
   "metadata": {},
   "outputs": [
    {
     "name": "stdout",
     "output_type": "stream",
     "text": [
      "                stamp            x           y                    src  \\\n",
      "0        1.716181e+09  1001.401664  565.097769                   gnss   \n",
      "1        1.716181e+09  1001.401511  565.097814                   gnss   \n",
      "2        1.716181e+09  1001.401618  565.097958                   gnss   \n",
      "3        1.716181e+09  1001.401760  565.098114                   gnss   \n",
      "4        1.716181e+09  1001.401928  565.098294                   gnss   \n",
      "...               ...          ...         ...                    ...   \n",
      "1055051  1.716208e+09          NaN         NaN  qc_match_updated_pose   \n",
      "1055052  1.716208e+09          NaN         NaN  qc_match_updated_pose   \n",
      "1055053  1.716208e+09          NaN         NaN  qc_match_updated_pose   \n",
      "1055054  1.716208e+09          NaN         NaN  qc_match_updated_pose   \n",
      "1055055  1.716208e+09          NaN         NaN  qc_match_updated_pose   \n",
      "\n",
      "         gnss_fsm_status  \n",
      "0                    1.0  \n",
      "1                    1.0  \n",
      "2                    1.0  \n",
      "3                    1.0  \n",
      "4                    1.0  \n",
      "...                  ...  \n",
      "1055051              0.0  \n",
      "1055052              0.0  \n",
      "1055053              0.0  \n",
      "1055054              0.0  \n",
      "1055055              0.0  \n",
      "\n",
      "[1055056 rows x 5 columns]\n"
     ]
    },
    {
     "ename": "OSError",
     "evalue": "Cannot save file into a non-existent directory: 'C:\\Users\\westwell\\Documents\\.WorkDocuments\\github\\wwl_ds_projects\\data\\processed'",
     "output_type": "error",
     "traceback": [
      "\u001b[1;31m---------------------------------------------------------------------------\u001b[0m",
      "\u001b[1;31mOSError\u001b[0m                                   Traceback (most recent call last)",
      "Cell \u001b[1;32mIn[9], line 28\u001b[0m\n\u001b[0;32m     24\u001b[0m res \u001b[38;5;241m=\u001b[39m melt_data(gps5)\n\u001b[0;32m     26\u001b[0m \u001b[38;5;28mprint\u001b[39m(res)\n\u001b[1;32m---> 28\u001b[0m res\u001b[38;5;241m.\u001b[39mto_csv(\u001b[38;5;124m\"\u001b[39m\u001b[38;5;124mC:\u001b[39m\u001b[38;5;130;01m\\\\\u001b[39;00m\u001b[38;5;124mUsers\u001b[39m\u001b[38;5;124m\\\u001b[39m\u001b[38;5;124mwestwell\u001b[39m\u001b[38;5;124m\\\u001b[39m\u001b[38;5;124mDocuments\u001b[39m\u001b[38;5;130;01m\\\\\u001b[39;00m\u001b[38;5;124m.WorkDocuments\u001b[39m\u001b[38;5;124m\\\u001b[39m\u001b[38;5;124mgithub\u001b[39m\u001b[38;5;130;01m\\\\\u001b[39;00m\u001b[38;5;124mwwl_ds_projects\u001b[39m\u001b[38;5;124m\\\u001b[39m\u001b[38;5;124mdata\u001b[39m\u001b[38;5;130;01m\\\\\u001b[39;00m\u001b[38;5;124mprocessed\u001b[39m\u001b[38;5;130;01m\\\\\u001b[39;00m\u001b[38;5;124mresults.csv\u001b[39m\u001b[38;5;124m\"\u001b[39m)\n",
      "File \u001b[1;32mc:\\Users\\westwell\\anaconda3\\Lib\\site-packages\\pandas\\core\\generic.py:3772\u001b[0m, in \u001b[0;36mNDFrame.to_csv\u001b[1;34m(self, path_or_buf, sep, na_rep, float_format, columns, header, index, index_label, mode, encoding, compression, quoting, quotechar, lineterminator, chunksize, date_format, doublequote, escapechar, decimal, errors, storage_options)\u001b[0m\n\u001b[0;32m   3761\u001b[0m df \u001b[38;5;241m=\u001b[39m \u001b[38;5;28mself\u001b[39m \u001b[38;5;28;01mif\u001b[39;00m \u001b[38;5;28misinstance\u001b[39m(\u001b[38;5;28mself\u001b[39m, ABCDataFrame) \u001b[38;5;28;01melse\u001b[39;00m \u001b[38;5;28mself\u001b[39m\u001b[38;5;241m.\u001b[39mto_frame()\n\u001b[0;32m   3763\u001b[0m formatter \u001b[38;5;241m=\u001b[39m DataFrameFormatter(\n\u001b[0;32m   3764\u001b[0m     frame\u001b[38;5;241m=\u001b[39mdf,\n\u001b[0;32m   3765\u001b[0m     header\u001b[38;5;241m=\u001b[39mheader,\n\u001b[1;32m   (...)\u001b[0m\n\u001b[0;32m   3769\u001b[0m     decimal\u001b[38;5;241m=\u001b[39mdecimal,\n\u001b[0;32m   3770\u001b[0m )\n\u001b[1;32m-> 3772\u001b[0m \u001b[38;5;28;01mreturn\u001b[39;00m DataFrameRenderer(formatter)\u001b[38;5;241m.\u001b[39mto_csv(\n\u001b[0;32m   3773\u001b[0m     path_or_buf,\n\u001b[0;32m   3774\u001b[0m     lineterminator\u001b[38;5;241m=\u001b[39mlineterminator,\n\u001b[0;32m   3775\u001b[0m     sep\u001b[38;5;241m=\u001b[39msep,\n\u001b[0;32m   3776\u001b[0m     encoding\u001b[38;5;241m=\u001b[39mencoding,\n\u001b[0;32m   3777\u001b[0m     errors\u001b[38;5;241m=\u001b[39merrors,\n\u001b[0;32m   3778\u001b[0m     compression\u001b[38;5;241m=\u001b[39mcompression,\n\u001b[0;32m   3779\u001b[0m     quoting\u001b[38;5;241m=\u001b[39mquoting,\n\u001b[0;32m   3780\u001b[0m     columns\u001b[38;5;241m=\u001b[39mcolumns,\n\u001b[0;32m   3781\u001b[0m     index_label\u001b[38;5;241m=\u001b[39mindex_label,\n\u001b[0;32m   3782\u001b[0m     mode\u001b[38;5;241m=\u001b[39mmode,\n\u001b[0;32m   3783\u001b[0m     chunksize\u001b[38;5;241m=\u001b[39mchunksize,\n\u001b[0;32m   3784\u001b[0m     quotechar\u001b[38;5;241m=\u001b[39mquotechar,\n\u001b[0;32m   3785\u001b[0m     date_format\u001b[38;5;241m=\u001b[39mdate_format,\n\u001b[0;32m   3786\u001b[0m     doublequote\u001b[38;5;241m=\u001b[39mdoublequote,\n\u001b[0;32m   3787\u001b[0m     escapechar\u001b[38;5;241m=\u001b[39mescapechar,\n\u001b[0;32m   3788\u001b[0m     storage_options\u001b[38;5;241m=\u001b[39mstorage_options,\n\u001b[0;32m   3789\u001b[0m )\n",
      "File \u001b[1;32mc:\\Users\\westwell\\anaconda3\\Lib\\site-packages\\pandas\\io\\formats\\format.py:1186\u001b[0m, in \u001b[0;36mDataFrameRenderer.to_csv\u001b[1;34m(self, path_or_buf, encoding, sep, columns, index_label, mode, compression, quoting, quotechar, lineterminator, chunksize, date_format, doublequote, escapechar, errors, storage_options)\u001b[0m\n\u001b[0;32m   1165\u001b[0m     created_buffer \u001b[38;5;241m=\u001b[39m \u001b[38;5;28;01mFalse\u001b[39;00m\n\u001b[0;32m   1167\u001b[0m csv_formatter \u001b[38;5;241m=\u001b[39m CSVFormatter(\n\u001b[0;32m   1168\u001b[0m     path_or_buf\u001b[38;5;241m=\u001b[39mpath_or_buf,\n\u001b[0;32m   1169\u001b[0m     lineterminator\u001b[38;5;241m=\u001b[39mlineterminator,\n\u001b[1;32m   (...)\u001b[0m\n\u001b[0;32m   1184\u001b[0m     formatter\u001b[38;5;241m=\u001b[39m\u001b[38;5;28mself\u001b[39m\u001b[38;5;241m.\u001b[39mfmt,\n\u001b[0;32m   1185\u001b[0m )\n\u001b[1;32m-> 1186\u001b[0m csv_formatter\u001b[38;5;241m.\u001b[39msave()\n\u001b[0;32m   1188\u001b[0m \u001b[38;5;28;01mif\u001b[39;00m created_buffer:\n\u001b[0;32m   1189\u001b[0m     \u001b[38;5;28;01massert\u001b[39;00m \u001b[38;5;28misinstance\u001b[39m(path_or_buf, StringIO)\n",
      "File \u001b[1;32mc:\\Users\\westwell\\anaconda3\\Lib\\site-packages\\pandas\\io\\formats\\csvs.py:240\u001b[0m, in \u001b[0;36mCSVFormatter.save\u001b[1;34m(self)\u001b[0m\n\u001b[0;32m    236\u001b[0m \u001b[38;5;250m\u001b[39m\u001b[38;5;124;03m\"\"\"\u001b[39;00m\n\u001b[0;32m    237\u001b[0m \u001b[38;5;124;03mCreate the writer & save.\u001b[39;00m\n\u001b[0;32m    238\u001b[0m \u001b[38;5;124;03m\"\"\"\u001b[39;00m\n\u001b[0;32m    239\u001b[0m \u001b[38;5;66;03m# apply compression and byte/text conversion\u001b[39;00m\n\u001b[1;32m--> 240\u001b[0m \u001b[38;5;28;01mwith\u001b[39;00m get_handle(\n\u001b[0;32m    241\u001b[0m     \u001b[38;5;28mself\u001b[39m\u001b[38;5;241m.\u001b[39mfilepath_or_buffer,\n\u001b[0;32m    242\u001b[0m     \u001b[38;5;28mself\u001b[39m\u001b[38;5;241m.\u001b[39mmode,\n\u001b[0;32m    243\u001b[0m     encoding\u001b[38;5;241m=\u001b[39m\u001b[38;5;28mself\u001b[39m\u001b[38;5;241m.\u001b[39mencoding,\n\u001b[0;32m    244\u001b[0m     errors\u001b[38;5;241m=\u001b[39m\u001b[38;5;28mself\u001b[39m\u001b[38;5;241m.\u001b[39merrors,\n\u001b[0;32m    245\u001b[0m     compression\u001b[38;5;241m=\u001b[39m\u001b[38;5;28mself\u001b[39m\u001b[38;5;241m.\u001b[39mcompression,\n\u001b[0;32m    246\u001b[0m     storage_options\u001b[38;5;241m=\u001b[39m\u001b[38;5;28mself\u001b[39m\u001b[38;5;241m.\u001b[39mstorage_options,\n\u001b[0;32m    247\u001b[0m ) \u001b[38;5;28;01mas\u001b[39;00m handles:\n\u001b[0;32m    248\u001b[0m     \u001b[38;5;66;03m# Note: self.encoding is irrelevant here\u001b[39;00m\n\u001b[0;32m    249\u001b[0m     \u001b[38;5;28mself\u001b[39m\u001b[38;5;241m.\u001b[39mwriter \u001b[38;5;241m=\u001b[39m csvlib\u001b[38;5;241m.\u001b[39mwriter(\n\u001b[0;32m    250\u001b[0m         handles\u001b[38;5;241m.\u001b[39mhandle,\n\u001b[0;32m    251\u001b[0m         lineterminator\u001b[38;5;241m=\u001b[39m\u001b[38;5;28mself\u001b[39m\u001b[38;5;241m.\u001b[39mlineterminator,\n\u001b[1;32m   (...)\u001b[0m\n\u001b[0;32m    256\u001b[0m         quotechar\u001b[38;5;241m=\u001b[39m\u001b[38;5;28mself\u001b[39m\u001b[38;5;241m.\u001b[39mquotechar,\n\u001b[0;32m    257\u001b[0m     )\n\u001b[0;32m    259\u001b[0m     \u001b[38;5;28mself\u001b[39m\u001b[38;5;241m.\u001b[39m_save()\n",
      "File \u001b[1;32mc:\\Users\\westwell\\anaconda3\\Lib\\site-packages\\pandas\\io\\common.py:737\u001b[0m, in \u001b[0;36mget_handle\u001b[1;34m(path_or_buf, mode, encoding, compression, memory_map, is_text, errors, storage_options)\u001b[0m\n\u001b[0;32m    735\u001b[0m \u001b[38;5;66;03m# Only for write methods\u001b[39;00m\n\u001b[0;32m    736\u001b[0m \u001b[38;5;28;01mif\u001b[39;00m \u001b[38;5;124m\"\u001b[39m\u001b[38;5;124mr\u001b[39m\u001b[38;5;124m\"\u001b[39m \u001b[38;5;129;01mnot\u001b[39;00m \u001b[38;5;129;01min\u001b[39;00m mode \u001b[38;5;129;01mand\u001b[39;00m is_path:\n\u001b[1;32m--> 737\u001b[0m     check_parent_directory(\u001b[38;5;28mstr\u001b[39m(handle))\n\u001b[0;32m    739\u001b[0m \u001b[38;5;28;01mif\u001b[39;00m compression:\n\u001b[0;32m    740\u001b[0m     \u001b[38;5;28;01mif\u001b[39;00m compression \u001b[38;5;241m!=\u001b[39m \u001b[38;5;124m\"\u001b[39m\u001b[38;5;124mzstd\u001b[39m\u001b[38;5;124m\"\u001b[39m:\n\u001b[0;32m    741\u001b[0m         \u001b[38;5;66;03m# compression libraries do not like an explicit text-mode\u001b[39;00m\n",
      "File \u001b[1;32mc:\\Users\\westwell\\anaconda3\\Lib\\site-packages\\pandas\\io\\common.py:600\u001b[0m, in \u001b[0;36mcheck_parent_directory\u001b[1;34m(path)\u001b[0m\n\u001b[0;32m    598\u001b[0m parent \u001b[38;5;241m=\u001b[39m Path(path)\u001b[38;5;241m.\u001b[39mparent\n\u001b[0;32m    599\u001b[0m \u001b[38;5;28;01mif\u001b[39;00m \u001b[38;5;129;01mnot\u001b[39;00m parent\u001b[38;5;241m.\u001b[39mis_dir():\n\u001b[1;32m--> 600\u001b[0m     \u001b[38;5;28;01mraise\u001b[39;00m \u001b[38;5;167;01mOSError\u001b[39;00m(\u001b[38;5;124mrf\u001b[39m\u001b[38;5;124m\"\u001b[39m\u001b[38;5;124mCannot save file into a non-existent directory: \u001b[39m\u001b[38;5;124m'\u001b[39m\u001b[38;5;132;01m{\u001b[39;00mparent\u001b[38;5;132;01m}\u001b[39;00m\u001b[38;5;124m'\u001b[39m\u001b[38;5;124m\"\u001b[39m)\n",
      "\u001b[1;31mOSError\u001b[0m: Cannot save file into a non-existent directory: 'C:\\Users\\westwell\\Documents\\.WorkDocuments\\github\\wwl_ds_projects\\data\\processed'"
     ]
    }
   ],
   "source": [
    "def melt_data(df):\n",
    "    # Identify columns that end with _x and _y\n",
    "    x_cols = [col for col in gps5.columns if col.endswith('_x')]\n",
    "    y_cols = [col for col in gps5.columns if col.endswith('_y')]\n",
    "\n",
    "    # Create a list of tuples (x_col, y_col)\n",
    "    xy_cols = list(zip(x_cols, y_cols))\n",
    "\n",
    "    # Initialize the result DataFrame\n",
    "    result = pd.DataFrame()\n",
    "\n",
    "    for x_col, y_col in xy_cols:\n",
    "        src = x_col.rsplit('_', 1)[0]  # Extract the source by removing the last '_x'\n",
    "        temp_df = gps5[['stamp', x_col, y_col, 'gnss_fsm_status']].copy()\n",
    "        temp_df.columns = ['stamp', 'x', 'y', 'gnss_fsm_status']\n",
    "        temp_df['src'] = src\n",
    "        result = pd.concat([result, temp_df], ignore_index=True)\n",
    "\n",
    "    # Reorder the columns as desired\n",
    "    result = result[['stamp', 'x', 'y', 'src', 'gnss_fsm_status']]\n",
    "\n",
    "    return result\n",
    "\n",
    "res = melt_data(gps5)\n",
    "\n",
    "print(res)\n",
    "\n",
    "res.to_csv(\"C:\\\\Users\\westwell\\Documents\\\\.WorkDocuments\\github\\\\wwl_ds_projects\\data\\\\processed\\\\results.csv\")\n"
   ]
  },
  {
   "cell_type": "code",
   "execution_count": 176,
   "metadata": {},
   "outputs": [
    {
     "data": {
      "text/plain": [
       "stamp              float64\n",
       "x                  float64\n",
       "y                  float64\n",
       "src                 object\n",
       "gnss_fsm_status    float64\n",
       "dtype: object"
      ]
     },
     "execution_count": 176,
     "metadata": {},
     "output_type": "execute_result"
    }
   ],
   "source": [
    "res.dtypes"
   ]
  },
  {
   "cell_type": "code",
   "execution_count": null,
   "metadata": {},
   "outputs": [],
   "source": [
    "# gnss -< gps -> 0,2,4,6,8 # gnss status\n",
    "# container pose\n",
    "# correct pose by wall\n",
    "# base footprint \n",
    "# optimized\n",
    "# qc match pose"
   ]
  },
  {
   "cell_type": "markdown",
   "metadata": {},
   "source": [
    "# Feature Eng"
   ]
  },
  {
   "cell_type": "markdown",
   "metadata": {},
   "source": [
    "### Location Section"
   ]
  },
  {
   "cell_type": "code",
   "execution_count": 203,
   "metadata": {},
   "outputs": [
    {
     "name": "stdout",
     "output_type": "stream",
     "text": [
      "{'x_min': 880, 'x_max': 1864, 'y_min': 243, 'y_max': 530}\n"
     ]
    }
   ],
   "source": [
    "with open(\"C:\\\\Users\\westwell\\Documents\\\\.WorkDocuments\\github\\wwl_ds_projects\\data\\cfg\\TS_map.json\", 'r') as f:\n",
    "    map_config = json.load(f)['YARD']\n",
    "print(map_config)\n",
    "\n",
    "def lmd_section_tag(x, y):\n",
    "    if map_config['x_min'] <= x <= map_config['x_max'] and map_config['y_min'] <= y <= map_config['y_max']:\n",
    "        return 'YARD'\n",
    "    else: return 'QC'\n",
    "\n",
    "res['YARD_or_QC'] = res.apply(lambda x: lmd_section_tag(x['x'], x['y']), axis=1)\n",
    "\n",
    "# res.to_csv(\"C:\\\\Users\\westwell\\Documents\\\\.WorkDocuments\\github\\\\wwl_ds_projects\\data\\\\processed\\\\results.csv\")\n"
   ]
  },
  {
   "cell_type": "markdown",
   "metadata": {},
   "source": [
    "### Euclidean Distance"
   ]
  },
  {
   "cell_type": "code",
   "execution_count": 204,
   "metadata": {},
   "outputs": [
    {
     "name": "stdout",
     "output_type": "stream",
     "text": [
      "(1055056, 6) (447344, 6)\n"
     ]
    }
   ],
   "source": [
    "df = res[res['gnss_fsm_status']==0].copy()\n",
    "print(res.shape, df.shape)"
   ]
  },
  {
   "cell_type": "code",
   "execution_count": 205,
   "metadata": {},
   "outputs": [
    {
     "data": {
      "text/plain": [
       "base_footprint_y\n",
       "True     30797\n",
       "False    25121\n",
       "Name: count, dtype: int64"
      ]
     },
     "execution_count": 205,
     "metadata": {},
     "output_type": "execute_result"
    }
   ],
   "source": [
    "gps5[gps5['gnss_fsm_status']==0]['base_footprint_y'].isna().value_counts()"
   ]
  }
 ],
 "metadata": {
  "kernelspec": {
   "display_name": "base",
   "language": "python",
   "name": "python3"
  },
  "language_info": {
   "codemirror_mode": {
    "name": "ipython",
    "version": 3
   },
   "file_extension": ".py",
   "mimetype": "text/x-python",
   "name": "python",
   "nbconvert_exporter": "python",
   "pygments_lexer": "ipython3",
   "version": "3.11.5"
  }
 },
 "nbformat": 4,
 "nbformat_minor": 2
}
