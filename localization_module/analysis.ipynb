{
 "cells": [
  {
   "cell_type": "code",
   "execution_count": null,
   "metadata": {},
   "outputs": [],
   "source": [
    "import sys\n",
    "import os\n",
    "import pandas as pd\n",
    "import json"
   ]
  },
  {
   "cell_type": "code",
   "execution_count": null,
   "metadata": {},
   "outputs": [],
   "source": [
    "# Change the working directory to the project directory\n",
    "project_path = os.path.abspath(os.path.join(os.path.dirname(\"__file__\"), \"..\"))\n",
    "os.chdir(project_path)\n",
    "\n",
    "# Add the project directory to sys.path\n",
    "sys.path.insert(0, project_path)\n",
    "\n",
    "# Now you can import the print_path function from the tools.data_pipe module\n",
    "from tools.folder_generator import create_folder\n",
    "create_folder(\"localization_module\")"
   ]
  },
  {
   "cell_type": "markdown",
   "metadata": {},
   "source": [
    "# Data Cleaning"
   ]
  },
  {
   "cell_type": "code",
   "execution_count": null,
   "metadata": {},
   "outputs": [],
   "source": [
    "path_list = []\n",
    "module_path = os.path.abspath(os.path.join(\"localization_module\"))\n",
    "os.chdir(module_path)\n",
    "\n",
    "folder_path = os.path.abspath(os.path.join(\"data\",\"raw\"))\n",
    "\n",
    "for item in os.listdir(folder_path):\n",
    "    if item.lower().endswith(\".csv\"):\n",
    "        path_list.append(os.path.join(folder_path, item))"
   ]
  },
  {
   "cell_type": "code",
   "execution_count": null,
   "metadata": {},
   "outputs": [],
   "source": [
    "name_list = [\n",
    "    \"localization2_gnss_pose\",\n",
    "    \"localization2_localization_odom\",\n",
    "    \"localization2_correct_pose_by_wall\",\n",
    "    \"localization2_container_pose\",\n",
    "    \"localization2_qc_match_pose\",\n",
    "    \"localization2_optimized_pose\",\n",
    "    \"localization2_magnetic_nail\",\n",
    "    \"localization2_correct_pose_by_lane\",\n",
    "]\n",
    "\n",
    "name = name_list[5]\n",
    "\n",
    "def lmd_stamp(timestamp):\n",
    "    \"\"\"Timestamp alignment, all ending in even numbers.\"\"\"\n",
    "    if round(timestamp, 1) % 2 != 0: return round(timestamp, 1)-0.1\n",
    "    else: return round(timestamp,1)\n",
    "\n",
    "for ind in range(0, len(name_list)):\n",
    "    name = name_list[ind]\n",
    "    df_list = []\n",
    "    for p in path_list:\n",
    "        if name in p:\n",
    "            print(p)\n",
    "            df_list.append(pd.read_csv(p))\n",
    "        else: pass\n",
    "\n",
    "    df = pd.concat(df_list, axis=0)\n",
    "    display((round(df[\"stamp\"]-df[\"stamp\"].shift(1), 1)).value_counts())\n",
    "\n",
    "    df = df.sort_values(by='stamp')\n",
    "    df[\"stamp\"] = df[\"stamp\"].apply(lambda x: lmd_stamp(x))\n",
    "\n",
    "    processed_p = os.path.abspath(os.path.join('data', 'processed', f'{name}.csv'))\n",
    "    df.to_csv(processed_p)"
   ]
  },
  {
   "cell_type": "code",
   "execution_count": 34,
   "metadata": {},
   "outputs": [
    {
     "name": "stdout",
     "output_type": "stream",
     "text": [
      "c:\\Users\\westwell\\Documents\\.WorkDocuments\\github\\wwl_ds_projects\\localization_module\\data\\processed\n",
      "0 localization2_container_pose.csv (137066, 17)\n",
      "1 localization2_correct_pose_by_wall.csv (325756, 7)\n",
      "2 localization2_gnss_pose.csv (131155, 16)\n",
      "3 localization2_localization_odom.csv (88538, 34)\n",
      "4 localization2_optimized_pose.csv (9037, 4)\n",
      "5 localization2_qc_match_pose.csv (63586, 17)\n"
     ]
    }
   ],
   "source": [
    "def get_info(folder_path):\n",
    "    path_list, df_list = [], []\n",
    "    num = 0\n",
    "\n",
    "    for item in os.listdir(folder_path):\n",
    "        if item.lower().endswith(\".csv\"):\n",
    "\n",
    "            path_list.append(os.path.join(folder_path, item))\n",
    "\n",
    "    for num in range(0,len(path_list)):\n",
    "        p = path_list[num]\n",
    "        df = pd.read_csv(p, index_col=0)\n",
    "        print(num,\n",
    "                os.path.basename(p), \n",
    "                # df.columns, \n",
    "                df.shape)\n",
    "\n",
    "        if num == 0: \n",
    "            col = [\"stamp\", \"container_pose_x\", \"container_pose_y\",\"container_updated_pose_x\", \"container_updated_pose_y\",]\n",
    "        elif num == 1: col = [\"stamp\", \"correct_pose_by_wall_x\", \"correct_pose_by_wall_y\",]\n",
    "        elif num == 2: col = [\"stamp\", \"gnss_x\", \"gnss_y\", \"gnss_fsm_status\"]\n",
    "        elif num == 3: col = [\"stamp\", \"base_footprint_x\", \"base_footprint_y\",]\n",
    "        elif num == 4: col = [\"stamp\", \"optimized_pose_x\", \"optimized_pose_y\",]\n",
    "        elif num == 5: col = [\"stamp\", \"qc_match_pose_x\", \"qc_match_pose_y\",\"qc_match_updated_pose_x\", \"qc_match_updated_pose_y\"]\n",
    "        df = df[col].copy()\n",
    "\n",
    "        df_list.append(df)\n",
    "    return df_list\n",
    "    \n",
    "    \n",
    "folder_path = os.path.abspath(os.path.join(\"data\",\"processed\"))\n",
    "print(folder_path)\n",
    "df_list = get_info(folder_path=folder_path)"
   ]
  },
  {
   "cell_type": "code",
   "execution_count": 35,
   "metadata": {},
   "outputs": [
    {
     "name": "stdout",
     "output_type": "stream",
     "text": [
      "(132201, 18)\n"
     ]
    }
   ],
   "source": [
    "gps1 = pd.merge(df_list[2], df_list[0], how=\"left\",on=\"stamp\")\n",
    "gps2 = pd.merge(gps1, df_list[1],how=\"left\",on=\"stamp\" )\n",
    "gps3 = pd.merge(gps2, df_list[3],how=\"left\",on=\"stamp\" )\n",
    "gps4 = pd.merge(gps3, df_list[4],how=\"left\",on=\"stamp\" )\n",
    "gps5 = pd.merge(gps4, df_list[5],how=\"left\",on=\"stamp\" )\n",
    "\n",
    "print(gps5.shape)"
   ]
  },
  {
   "cell_type": "code",
   "execution_count": 36,
   "metadata": {},
   "outputs": [
    {
     "data": {
      "text/plain": [
       "Index(['stamp', 'gnss_x', 'gnss_y', 'gnss_fsm_status', 'container_pose_x',\n",
       "       'container_pose_y', 'container_updated_pose_x',\n",
       "       'container_updated_pose_y', 'correct_pose_by_wall_x',\n",
       "       'correct_pose_by_wall_y', 'base_footprint_x', 'base_footprint_y',\n",
       "       'optimized_pose_x', 'optimized_pose_y', 'qc_match_pose_x',\n",
       "       'qc_match_pose_y', 'qc_match_updated_pose_x',\n",
       "       'qc_match_updated_pose_y'],\n",
       "      dtype='object')"
      ]
     },
     "metadata": {},
     "output_type": "display_data"
    }
   ],
   "source": [
    "gps5.head()\n",
    "display(gps5.columns)\n",
    "export_p1 = os.path.abspath(os.path.join(\"data\", \"export\", 'localization_horizontal_merge.csv'))\n",
    "gps5.to_csv(export_p1)"
   ]
  },
  {
   "cell_type": "code",
   "execution_count": 37,
   "metadata": {},
   "outputs": [
    {
     "name": "stdout",
     "output_type": "stream",
     "text": [
      "                stamp            x           y                    src  \\\n",
      "0        1.716181e+09  1001.401664  565.097769                   gnss   \n",
      "1        1.716181e+09  1001.401511  565.097814                   gnss   \n",
      "2        1.716181e+09  1001.401618  565.097958                   gnss   \n",
      "3        1.716181e+09  1001.401760  565.098114                   gnss   \n",
      "4        1.716181e+09  1001.401928  565.098294                   gnss   \n",
      "...               ...          ...         ...                    ...   \n",
      "1057603  1.716208e+09          NaN         NaN  qc_match_updated_pose   \n",
      "1057604  1.716208e+09          NaN         NaN  qc_match_updated_pose   \n",
      "1057605  1.716208e+09          NaN         NaN  qc_match_updated_pose   \n",
      "1057606  1.716208e+09          NaN         NaN  qc_match_updated_pose   \n",
      "1057607           NaN          NaN         NaN  qc_match_updated_pose   \n",
      "\n",
      "         gnss_fsm_status  \n",
      "0                    1.0  \n",
      "1                    1.0  \n",
      "2                    1.0  \n",
      "3                    1.0  \n",
      "4                    1.0  \n",
      "...                  ...  \n",
      "1057603              0.0  \n",
      "1057604              0.0  \n",
      "1057605              0.0  \n",
      "1057606              0.0  \n",
      "1057607              NaN  \n",
      "\n",
      "[1057608 rows x 5 columns]\n"
     ]
    }
   ],
   "source": [
    "def melt_data(df):\n",
    "    # Identify columns that end with _x and _y\n",
    "    x_cols = [col for col in gps5.columns if col.endswith(\"_x\")]\n",
    "    y_cols = [col for col in gps5.columns if col.endswith(\"_y\")]\n",
    "\n",
    "    # Create a list of tuples (x_col, y_col)\n",
    "    xy_cols = list(zip(x_cols, y_cols))\n",
    "\n",
    "    # Initialize the result DataFrame\n",
    "    result = pd.DataFrame()\n",
    "\n",
    "    for x_col, y_col in xy_cols:\n",
    "        src = x_col.rsplit(\"_\", 1)[0]  # Extract the source by removing the last \"_x\"\n",
    "        temp_df = gps5[[\"stamp\", x_col, y_col, \"gnss_fsm_status\"]].copy()\n",
    "        temp_df.columns = [\"stamp\", \"x\", \"y\", \"gnss_fsm_status\"]\n",
    "        temp_df[\"src\"] = src\n",
    "        result = pd.concat([result, temp_df], ignore_index=True)\n",
    "\n",
    "    # Reorder the columns as desired\n",
    "    result = result[[\"stamp\", \"x\", \"y\", \"src\", \"gnss_fsm_status\"]]\n",
    "\n",
    "    return result\n",
    "\n",
    "res = melt_data(gps5)\n",
    "\n",
    "print(res)\n",
    "\n",
    "export_p2 = os.path.abspath(os.path.join(\"data\", \"export\", 'localization_horizontal_melt_res.csv'))\n",
    "res.to_csv(export_p2)\n"
   ]
  },
  {
   "cell_type": "code",
   "execution_count": null,
   "metadata": {},
   "outputs": [],
   "source": [
    "# gnss -< gps -> 0,2,4,6,8 # gnss status\n",
    "# container pose\n",
    "# correct pose by wall\n",
    "# base footprint \n",
    "# optimized\n",
    "# qc match pose"
   ]
  },
  {
   "cell_type": "markdown",
   "metadata": {},
   "source": [
    "# Feature Eng"
   ]
  },
  {
   "cell_type": "markdown",
   "metadata": {},
   "source": [
    "### Location Section"
   ]
  },
  {
   "cell_type": "code",
   "execution_count": 38,
   "metadata": {},
   "outputs": [
    {
     "name": "stdout",
     "output_type": "stream",
     "text": [
      "{'x_min': 880, 'x_max': 1864, 'y_min': 243, 'y_max': 530}\n"
     ]
    }
   ],
   "source": [
    "cfg_pa = os.path.abspath(os.path.join('map_cfg.json'))\n",
    "with open(cfg_pa, \"r\") as f:\n",
    "    map_config = json.load(f)[\"MAP\"][\"YARD\"]\n",
    "print(map_config)\n",
    "\n",
    "def lmd_section_tag(x, y):\n",
    "    if map_config[\"x_min\"] <= x <= map_config[\"x_max\"] and map_config[\"y_min\"] <= y <= map_config[\"y_max\"]:\n",
    "        return \"YARD\"\n",
    "    else: return \"QC\"\n",
    "\n",
    "res[\"YARD_or_QC\"] = res.apply(lambda x: lmd_section_tag(x[\"x\"], x[\"y\"]), axis=1)\n",
    "\n",
    "res.to_csv(export_p2)"
   ]
  },
  {
   "cell_type": "markdown",
   "metadata": {},
   "source": [
    "### GPS not avaliable"
   ]
  },
  {
   "cell_type": "code",
   "execution_count": null,
   "metadata": {},
   "outputs": [],
   "source": [
    "df = res[res[\"gnss_fsm_status\"]==0].copy()\n",
    "print(res.shape, df.shape)\n",
    "\n",
    "gps5[gps5[\"gnss_fsm_status\"]==0][\"base_footprint_y\"].isna().value_counts()\n",
    "print(gps5.shape)\n",
    "\n",
    "base_loc = gps5[gps5['gnss_fsm_status']==0]\n",
    "print(base_loc.shape)\n",
    "print(gps5.columns)"
   ]
  },
  {
   "cell_type": "code",
   "execution_count": null,
   "metadata": {},
   "outputs": [],
   "source": []
  },
  {
   "cell_type": "markdown",
   "metadata": {},
   "source": [
    "### Euclidean Distance"
   ]
  },
  {
   "cell_type": "code",
   "execution_count": null,
   "metadata": {},
   "outputs": [],
   "source": []
  }
 ],
 "metadata": {
  "kernelspec": {
   "display_name": "base",
   "language": "python",
   "name": "python3"
  },
  "language_info": {
   "codemirror_mode": {
    "name": "ipython",
    "version": 3
   },
   "file_extension": ".py",
   "mimetype": "text/x-python",
   "name": "python",
   "nbconvert_exporter": "python",
   "pygments_lexer": "ipython3",
   "version": "3.11.5"
  }
 },
 "nbformat": 4,
 "nbformat_minor": 2
}
